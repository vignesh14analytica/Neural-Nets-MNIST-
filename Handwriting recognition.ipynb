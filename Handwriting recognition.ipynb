{
 "cells": [
  {
   "cell_type": "code",
   "execution_count": 2,
   "metadata": {},
   "outputs": [],
   "source": [
    "import tensorflow as tf\n",
    "import matplotlib.pyplot as plt\n",
    "from os import path, getcwd, chdir\n",
    "import numpy as np"
   ]
  },
  {
   "cell_type": "code",
   "execution_count": 3,
   "metadata": {},
   "outputs": [],
   "source": [
    "# set path of the .npz file\n",
    "\n",
    "path = f\"{getcwd()}/mnist.npz\""
   ]
  },
  {
   "cell_type": "code",
   "execution_count": 4,
   "metadata": {},
   "outputs": [],
   "source": [
    "# using the mnist data from keras database\n",
    "\n",
    "mnist = tf.keras.datasets.mnist"
   ]
  },
  {
   "cell_type": "code",
   "execution_count": 5,
   "metadata": {},
   "outputs": [],
   "source": [
    "# splitting the data into training and test set\n",
    "\n",
    "(x_train, y_train),(x_test, y_test) = mnist.load_data(path=path)"
   ]
  },
  {
   "cell_type": "code",
   "execution_count": 6,
   "metadata": {},
   "outputs": [
    {
     "data": {
      "text/plain": [
       "<matplotlib.image.AxesImage at 0x132026d90>"
      ]
     },
     "execution_count": 6,
     "metadata": {},
     "output_type": "execute_result"
    },
    {
     "data": {
      "image/png": "[encoded data removed]",
      "text/plain": [
       "<Figure size 432x288 with 1 Axes>"
      ]
     },
     "metadata": {
      "needs_background": "light"
     },
     "output_type": "display_data"
    }
   ],
   "source": [
    "# Checking training data\n",
    "\n",
    "plt.imshow(x_train[46])"
   ]
  },
  {
   "cell_type": "code",
   "execution_count": 7,
   "metadata": {},
   "outputs": [],
   "source": [
    "# Creating the function to train model \n",
    "\n",
    "def train_mnst():\n",
    "    \n",
    "    # creating the callback class to stop the training when accuracy reached 99%\n",
    "    class myCallback(tf.keras.callbacks.Callback):\n",
    "        def on_epoch_end(self, epoch, logs = {}):\n",
    "            if(logs.get('accuracy') > 0.99):\n",
    "                print(\"\\n\\n\\nReached 99% accuracy so cancelling training!\")\n",
    "                self.model.stop_training = True\n",
    "    \n",
    "    # Using the mnist data from keras database\n",
    "    mnist = tf.keras.datasets.mnist\n",
    "    \n",
    "    # Splitting the data into training and test set\n",
    "    (x_train, y_train),(x_test, y_test) = mnist.load_data(path=path)\n",
    "    \n",
    "    # Normalising data\n",
    "    x_train = x_train / 255\n",
    "    x_test = x_test / 255\n",
    "    \n",
    "    # Calling the callback call\n",
    "    callbacks = myCallback()\n",
    "    \n",
    "    # Initiating the model with one hidden layer\n",
    "    model = tf.keras.Sequential([tf.keras.layers.Flatten(),\n",
    "                                 tf.keras.layers.Dense(units = 1024, activation = tf.nn.relu),\n",
    "                                 tf.keras.layers.Dense(units = 10, activation = tf.nn.softmax)])\n",
    "    \n",
    "    # Compiling the model with Adam optimizer and loss function sparse_categorical_crossentropy\n",
    "    model.compile(optimizer = tf.optimizers.Adam(), loss='sparse_categorical_crossentropy', metrics = ['accuracy'])\n",
    "    \n",
    "    # Fitting the model \n",
    "    history = model.fit(x_train, y_train, epochs = 10, callbacks = [callbacks])\n",
    "    \n",
    "    return model,history.epoch, history.history['accuracy'][-1]"
   ]
  },
  {
   "cell_type": "code",
   "execution_count": 8,
   "metadata": {},
   "outputs": [
    {
     "name": "stdout",
     "output_type": "stream",
     "text": [
      "Epoch 1/10\n",
      "60000/60000 [==============================] - 13s 218us/sample - loss: 0.1828 - accuracy: 0.9452\n",
      "Epoch 2/10\n",
      "60000/60000 [==============================] - 14s 237us/sample - loss: 0.0739 - accuracy: 0.9772\n",
      "Epoch 3/10\n",
      "60000/60000 [==============================] - 12s 203us/sample - loss: 0.0490 - accuracy: 0.9844\n",
      "Epoch 4/10\n",
      "60000/60000 [==============================] - 12s 207us/sample - loss: 0.0345 - accuracy: 0.9885\n",
      "Epoch 5/10\n",
      "59744/60000 [============================>.] - ETA: 0s - loss: 0.0258 - accuracy: 0.9915\n",
      "\n",
      "\n",
      "Reached 99% accuracy so cancelling training!\n",
      "60000/60000 [==============================] - 11s 187us/sample - loss: 0.0258 - accuracy: 0.9915\n"
     ]
    }
   ],
   "source": [
    "# Running the training fucntion\n",
    "\n",
    "model, history, accuracy = train_mnst()"
   ]
  },
  {
   "cell_type": "code",
   "execution_count": 9,
   "metadata": {},
   "outputs": [
    {
     "name": "stdout",
     "output_type": "stream",
     "text": [
      "Model: \"sequential\"\n",
      "_________________________________________________________________\n",
      "Layer (type)                 Output Shape              Param #   \n",
      "=================================================================\n",
      "flatten (Flatten)            multiple                  0         \n",
      "_________________________________________________________________\n",
      "dense (Dense)                multiple                  803840    \n",
      "_________________________________________________________________\n",
      "dense_1 (Dense)              multiple                  10250     \n",
      "=================================================================\n",
      "Total params: 814,090\n",
      "Trainable params: 814,090\n",
      "Non-trainable params: 0\n",
      "_________________________________________________________________\n"
     ]
    }
   ],
   "source": [
    "# Displaying the model summary\n",
    "\n",
    "model.summary()"
   ]
  },
  {
   "cell_type": "code",
   "execution_count": 10,
   "metadata": {},
   "outputs": [
    {
     "name": "stdout",
     "output_type": "stream",
     "text": [
      "10000/10000 [==============================] - 1s 80us/sample - loss: 14.4848 - accuracy: 0.9823\n"
     ]
    },
    {
     "data": {
      "text/plain": [
       "[14.48479708804041, 0.9823]"
      ]
     },
     "execution_count": 10,
     "metadata": {},
     "output_type": "execute_result"
    }
   ],
   "source": [
    "# Evaluating the test data with the trained model\n",
    "\n",
    "model.evaluate(x_test, y_test)"
   ]
  },
  {
   "cell_type": "code",
   "execution_count": 11,
   "metadata": {},
   "outputs": [
    {
     "name": "stdout",
     "output_type": "stream",
     "text": [
      "[0. 0. 0. 0. 1. 0. 0. 0. 0. 0.]\n",
      "4\n"
     ]
    },
    {
     "data": {
      "image/png": "[encoded data removed]",
      "text/plain": [
       "<Figure size 432x288 with 1 Axes>"
      ]
     },
     "metadata": {
      "needs_background": "light"
     },
     "output_type": "display_data"
    }
   ],
   "source": [
    "# Checking the test data\n",
    "\n",
    "classifications = model.predict(x_test)\n",
    "\n",
    "plt.imshow(x_test[67])\n",
    "\n",
    "print(classifications[67])\n",
    "print(y_test[67])"
   ]
  }
 ],
 "metadata": {
  "kernelspec": {
   "display_name": "Python 3",
   "language": "python",
   "name": "python3"
  },
  "language_info": {
   "codemirror_mode": {
    "name": "ipython",
    "version": 3
   },
   "file_extension": ".py",
   "mimetype": "text/x-python",
   "name": "python",
   "nbconvert_exporter": "python",
   "pygments_lexer": "ipython3",
   "version": "3.7.4"
  }
 },
 "nbformat": 4,
 "nbformat_minor": 2
}
